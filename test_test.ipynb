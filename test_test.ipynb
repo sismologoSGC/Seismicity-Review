{
 "cells": [
  {
   "cell_type": "code",
   "execution_count": 8,
   "metadata": {},
   "outputs": [],
   "source": [
    "import os\n",
    "\n",
    "import glob \n",
    "\n",
    "import colorama\n",
    "import numpy as np\n",
    "import pandas as pd\n",
    "import pymysql\n",
    "import pytz\n"
   ]
  }
 ],
 "metadata": {
  "interpreter": {
   "hash": "723e8741a5bace491562c97e578e2b87dd2a18a095884fdb9cd06cb35a3ffcdc"
  },
  "kernelspec": {
   "display_name": "Python 3.10.4 ('RevisionSismicidad')",
   "language": "python",
   "name": "python3"
  },
  "language_info": {
   "codemirror_mode": {
    "name": "ipython",
    "version": 3
   },
   "file_extension": ".py",
   "mimetype": "text/x-python",
   "name": "python",
   "nbconvert_exporter": "python",
   "pygments_lexer": "ipython3",
   "version": "3.10.4"
  },
  "orig_nbformat": 4
 },
 "nbformat": 4,
 "nbformat_minor": 2
}
