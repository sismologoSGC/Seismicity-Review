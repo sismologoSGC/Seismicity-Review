{
 "cells": [
  {
   "cell_type": "code",
   "execution_count": 1,
   "metadata": {},
   "outputs": [],
   "source": [
    "#from importlib.resources import files\n",
    "import os\n",
    "import argparse\n",
    "#from matplotlib.pyplot import magnitude_spectrum\n",
    "import pymysql\n",
    "import utils as ut\n",
    "import datetime as dt\n",
    "import pandas as pd\n",
    "from colorama import init, Fore\n",
    "#import warnings"
   ]
  },
  {
   "cell_type": "code",
   "execution_count": 6,
   "metadata": {},
   "outputs": [
    {
     "name": "stdout",
     "output_type": "stream",
     "text": [
      "<pymysql.connections.Connection object at 0x7f81562516d0>\n"
     ]
    }
   ],
   "source": [
    "# database connection\n",
    "connection = pymysql.connect(host=\"172.25.3.135\", user=\"consulta\", passwd=\"consulta\", database=\"seiscomp3\")\n",
    "cursor = connection.cursor()\n",
    "# some other statements  with the help of cursor\n",
    "\n",
    "print(connection)"
   ]
  },
  {
   "cell_type": "code",
   "execution_count": 7,
   "metadata": {},
   "outputs": [],
   "source": [
    "def read_query(connection, query):\n",
    "    cursor = connection.cursor()\n",
    "    result = None\n",
    "    try:\n",
    "        cursor.execute(query)\n",
    "        result = cursor.fetchall()\n",
    "        return result\n",
    "    except Error as err:\n",
    "        print(f\"Error: '{err}'\")"
   ]
  },
  {
   "cell_type": "code",
   "execution_count": 16,
   "metadata": {},
   "outputs": [
    {
     "name": "stdout",
     "output_type": "stream",
     "text": [
      "(datetime.datetime(2022, 7, 1, 0, 3, 14), 'SGC2022mugocg', 130.46875, 1.564036771, 0.5672838325, 11.38055187, 9.116827993, 8.293925844, 14, 'sebastiang@proc3', 'earthquake', 'SGC', 'Villanueva - Santander, Colombia', 6.721817349, -73.16492378, 'MLr_3', 'NonLinLoc', 'Poveda_et_al_2018')\n",
      "(datetime.datetime(2022, 7, 1, 0, 7, 44), 'SGC2022mugrzb', 10.0, None, 7.421162702, None, None, None, None, 'sebastiang@proc3', 'not locatable', 'SGC', 'Duitama - BoyacÃ¡, Colombia', 5.8925, -73.0832, None, '', '')\n",
      "(datetime.datetime(2022, 7, 1, 0, 27, 21), 'SGC2022muhiwp', 2.02, 1.671600231, 0.37, 2.9, 1.979898987, 1.979898987, 14, 'sebastiang@proc3', 'earthquake', 'SGC', 'MurindÃ³ - Antioquia, Colombia', 6.797333333, -76.88166667, 'MLr_1', 'Hypo71', 'RSNC')\n",
      "(datetime.datetime(2022, 7, 1, 0, 59, 3), 'SGC2022muikey', 90.29, 1.286119386, 0.24, 3.0, 1.13137085, 1.13137085, 11, 'sebastiang@proc3', 'earthquake', 'SGC', 'Ataco - Tolima, Colombia', 3.562166667, -75.39833333, 'MLr_2', 'Hypo71', 'RSNC')\n",
      "(datetime.datetime(2022, 7, 1, 0, 59, 30), 'SGC2022muikpb', 139.2578125, 1.973752407, 0.9606203911, 7.742231209, 4.709056981, 4.300902915, 35, 'sebastiang@proc3', 'earthquake', 'SGC', 'Los Santos - Santander, Colombia', 6.731342268, -73.14030277, 'MLr_3', 'NonLinLoc', 'Poveda_et_al_2018')\n"
     ]
    }
   ],
   "source": [
    "q1 = \"\"\"\n",
    "SELECT Origin.time_value, POEv.publicID, Origin.depth_value, Magnitude.magnitude_value, Origin.quality_standardError, Origin.depth_uncertainty, Origin.latitude_uncertainty, Origin.longitude_uncertainty, Origin.quality_associatedPhaseCount, Origin.creationInfo_author, Event.type, Origin.creationInfo_agencyID, EventDescription.text, Origin.latitude_value, Origin.longitude_value, Magnitude.type, Origin.methodID, Origin.earthModelID\n",
    "FROM Event AS EvMF left join PublicObject AS POEv ON EvMF._oid = POEv._oid\n",
    "left join PublicObject as POOri ON EvMF.preferredOriginID=POOri.publicID  \n",
    "left join Origin ON POOri._oid=Origin._oid left join PublicObject as POMag on EvMF.preferredMagnitudeID=POMag.publicID  \n",
    "left join Magnitude ON Magnitude._oid = POMag._oid  \n",
    "left join Event ON Event._oid= POEv._oid \n",
    "left join EventDescription ON EvMF._oid = EventDescription._parent_oid\n",
    "WHERE\n",
    "Origin.time_value between \"2022/07/01 00:00:00\" and \"2022/07/01 00:59:59\";\n",
    "\"\"\"\n",
    "\n",
    "results = read_query(connection, q1)\n",
    "\n",
    "for result in results:\n",
    "  print(result)"
   ]
  }
 ],
 "metadata": {
  "interpreter": {
   "hash": "7e312790d0d6f4f84e23cbe552f5209438d668283df21adace16ef995a4ff980"
  },
  "kernelspec": {
   "display_name": "Python 3.8.13 ('revision')",
   "language": "python",
   "name": "python3"
  },
  "language_info": {
   "codemirror_mode": {
    "name": "ipython",
    "version": 3
   },
   "file_extension": ".py",
   "mimetype": "text/x-python",
   "name": "python",
   "nbconvert_exporter": "python",
   "pygments_lexer": "ipython3",
   "version": "3.8.13"
  },
  "orig_nbformat": 4
 },
 "nbformat": 4,
 "nbformat_minor": 2
}
